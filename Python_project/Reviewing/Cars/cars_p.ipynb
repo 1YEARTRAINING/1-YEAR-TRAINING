{
 "cells": [
  {
   "cell_type": "markdown",
   "metadata": {},
   "source": [
    "Second project i do and also deal with the github shit for the whole afternoon\n",
    "\n"
   ]
  },
  {
   "cell_type": "markdown",
   "metadata": {},
   "source": [
    "I'm dying"
   ]
  },
  {
   "cell_type": "markdown",
   "metadata": {},
   "source": [
    "last test for tonight"
   ]
  },
  {
   "cell_type": "code",
   "execution_count": 74,
   "metadata": {},
   "outputs": [],
   "source": [
    "import pandas as pd\n",
    "df = pd.read_csv('cars.csv')"
   ]
  },
  {
   "cell_type": "code",
   "execution_count": 75,
   "metadata": {},
   "outputs": [
    {
     "data": {
      "text/plain": [
       "Make           0\n",
       "Model          0\n",
       "Type           0\n",
       "Origin         0\n",
       "DriveTrain     0\n",
       "MSRP           0\n",
       "Invoice        0\n",
       "EngineSize     0\n",
       "Cylinders      0\n",
       "Horsepower     0\n",
       "MPG_City       0\n",
       "MPG_Highway    0\n",
       "Weight         0\n",
       "Wheelbase      0\n",
       "Length         0\n",
       "dtype: int64"
      ]
     },
     "execution_count": 75,
     "metadata": {},
     "output_type": "execute_result"
    }
   ],
   "source": [
    "df.head()\n",
    "df = df.dropna(axis=0)\n",
    "df.isna().sum()\n"
   ]
  },
  {
   "cell_type": "code",
   "execution_count": 76,
   "metadata": {},
   "outputs": [
    {
     "data": {
      "text/plain": [
       "Index(['Make', 'Model', 'Type', 'Origin', 'DriveTrain', 'MSRP', 'Invoice',\n",
       "       'EngineSize', 'Cylinders', 'Horsepower', 'MPG_City', 'MPG_Highway',\n",
       "       'Weight', 'Wheelbase', 'Length'],\n",
       "      dtype='object')"
      ]
     },
     "execution_count": 76,
     "metadata": {},
     "output_type": "execute_result"
    }
   ],
   "source": [
    "df.columns"
   ]
  },
  {
   "cell_type": "markdown",
   "metadata": {},
   "source": [
    "Basic Exploration\n",
    "\n",
    "1.How many unique car makes are in the dataset?\n",
    "\n",
    "2.What are the top 5 most common car types?\n",
    "\n",
    "3.What is the average MSRP of all cars?\n",
    "\n",
    "4.Find the car with the highest horsepower and the one with the lowest horsepower."
   ]
  },
  {
   "cell_type": "code",
   "execution_count": 77,
   "metadata": {},
   "outputs": [
    {
     "data": {
      "text/plain": [
       "38"
      ]
     },
     "execution_count": 77,
     "metadata": {},
     "output_type": "execute_result"
    }
   ],
   "source": [
    "# 1\n",
    "df.Make.nunique()"
   ]
  },
  {
   "cell_type": "code",
   "execution_count": 78,
   "metadata": {},
   "outputs": [
    {
     "data": {
      "text/plain": [
       "Make\n",
       "Toyota           28\n",
       "Chevrolet        27\n",
       "Mercedes-Benz    26\n",
       "Ford             23\n",
       "BMW              20\n",
       "Name: count, dtype: int64"
      ]
     },
     "execution_count": 78,
     "metadata": {},
     "output_type": "execute_result"
    }
   ],
   "source": [
    "# 2\n",
    "df.Make.value_counts().sort_values(ascending=False).head(5)"
   ]
  },
  {
   "cell_type": "code",
   "execution_count": 79,
   "metadata": {},
   "outputs": [
    {
     "data": {
      "text/plain": [
       "Make\n",
       "Acura            239.285714\n",
       "Audi             250.789474\n",
       "BMW              241.450000\n",
       "Buick            214.444444\n",
       "Cadillac         298.125000\n",
       "Chevrolet        212.814815\n",
       "Chrysler         201.133333\n",
       "Dodge            209.692308\n",
       "Ford             197.869565\n",
       "GMC              253.125000\n",
       "Honda            169.411765\n",
       "Hummer           316.000000\n",
       "Hyundai          149.666667\n",
       "Infiniti         291.250000\n",
       "Isuzu            234.000000\n",
       "Jaguar           307.000000\n",
       "Jeep             178.333333\n",
       "Kia              143.090909\n",
       "Land Rover       224.333333\n",
       "Lexus            243.636364\n",
       "Lincoln          260.333333\n",
       "MINI             139.000000\n",
       "Mazda            159.111111\n",
       "Mercedes-Benz    278.692308\n",
       "Mercury          210.666667\n",
       "Mitsubishi       184.307692\n",
       "Nissan           228.000000\n",
       "Oldsmobile       165.000000\n",
       "Pontiac          195.909091\n",
       "Porsche          321.142857\n",
       "Saab             222.857143\n",
       "Saturn           145.625000\n",
       "Scion            108.000000\n",
       "Subaru           191.454545\n",
       "Suzuki           151.000000\n",
       "Toyota           180.678571\n",
       "Volkswagen       201.333333\n",
       "Volvo            223.333333\n",
       "Name: Horsepower, dtype: float64"
      ]
     },
     "execution_count": 79,
     "metadata": {},
     "output_type": "execute_result"
    }
   ],
   "source": [
    "# 3\n",
    "df.groupby('Make')['Horsepower'].mean()"
   ]
  },
  {
   "cell_type": "code",
   "execution_count": null,
   "metadata": {},
   "outputs": [
    {
     "data": {
      "text/plain": [
       "Make                Acura\n",
       "Model          3.5 RL 4dr\n",
       "Type               Hybrid\n",
       "Origin               Asia\n",
       "DriveTrain            All\n",
       "MSRP             $10,280 \n",
       "Invoice          $10,107 \n",
       "EngineSize            1.4\n",
       "Cylinders             3.0\n",
       "Horsepower           73.0\n",
       "MPG_City             10.0\n",
       "MPG_Highway          12.0\n",
       "Weight             1850.0\n",
       "Wheelbase            89.0\n",
       "Length              143.0\n",
       "dtype: object"
      ]
     },
     "execution_count": 123,
     "metadata": {},
     "output_type": "execute_result"
    }
   ],
   "source": [
    "#4\n",
    "df.sort_values(by = 'Horsepower',ascending= True).min()\n",
    "                                   "
   ]
  },
  {
   "cell_type": "code",
   "execution_count": 121,
   "metadata": {},
   "outputs": [
    {
     "data": {
      "text/plain": [
       "Make              Volvo\n",
       "Model                xB\n",
       "Type              Wagon\n",
       "Origin              USA\n",
       "DriveTrain         Rear\n",
       "MSRP           $94,820 \n",
       "Invoice         $9,875 \n",
       "EngineSize          8.3\n",
       "Cylinders          12.0\n",
       "Horsepower        500.0\n",
       "MPG_City           60.0\n",
       "MPG_Highway        66.0\n",
       "Weight           7190.0\n",
       "Wheelbase         144.0\n",
       "Length            238.0\n",
       "dtype: object"
      ]
     },
     "execution_count": 121,
     "metadata": {},
     "output_type": "execute_result"
    }
   ],
   "source": [
    "df.sort_values(by = 'Horsepower',ascending= True).max()"
   ]
  },
  {
   "cell_type": "markdown",
   "metadata": {},
   "source": [
    "Comparisons & Grouping\n",
    "\n",
    "5/Compare the average MSRP between cars made in Asia vs USA vs Europe.\n",
    "\n",
    "6/Which DriveTrain type (Front, Rear, All) has the best average MPG_City?\n",
    "\n",
    "7/Group cars by Cylinders: which group has the highest average horsepower?\n",
    "\n",
    "8/Among Sedans, what is the average weight compared to SUVs?"
   ]
  },
  {
   "cell_type": "code",
   "execution_count": null,
   "metadata": {},
   "outputs": [
    {
     "data": {
      "text/plain": [
       "Origin\n",
       "Asia      190.358974\n",
       "USA       212.823129\n",
       "Europe    251.894309\n",
       "Name: Horsepower, dtype: float64"
      ]
     },
     "execution_count": 85,
     "metadata": {},
     "output_type": "execute_result"
    }
   ],
   "source": [
    "# 5\n",
    "df.groupby('Origin').Horsepower.mean().sort_values(ascending=True)"
   ]
  },
  {
   "cell_type": "code",
   "execution_count": 108,
   "metadata": {},
   "outputs": [
    {
     "data": {
      "text/plain": [
       "DriveTrain\n",
       "Front    22.256637\n",
       "Name: MPG_City, dtype: float64"
      ]
     },
     "execution_count": 108,
     "metadata": {},
     "output_type": "execute_result"
    }
   ],
   "source": [
    "# 6\n",
    "df.groupby('DriveTrain').MPG_City.mean().sort_values(ascending=False).head(1)"
   ]
  },
  {
   "cell_type": "code",
   "execution_count": null,
   "metadata": {},
   "outputs": [
    {
     "data": {
      "text/plain": [
       "Cylinders\n",
       "3.0      73.000000\n",
       "4.0     150.514706\n",
       "6.0     218.952632\n",
       "5.0     228.000000\n",
       "8.0     298.942529\n",
       "10.0    405.000000\n",
       "12.0    468.666667\n",
       "Name: Horsepower, dtype: float64"
      ]
     },
     "execution_count": 109,
     "metadata": {},
     "output_type": "execute_result"
    }
   ],
   "source": [
    "# 7\n",
    "df.groupby('Cylinders').Horsepower.mean().sort_values(ascending=True)"
   ]
  },
  {
   "cell_type": "code",
   "execution_count": null,
   "metadata": {},
   "outputs": [
    {
     "data": {
      "text/plain": [
       "np.float64(3399.0648854961833)"
      ]
     },
     "execution_count": 114,
     "metadata": {},
     "output_type": "execute_result"
    }
   ],
   "source": [
    "# 8\n",
    "df.groupby('Type').get_group('Sedan').Weight.mean()"
   ]
  },
  {
   "cell_type": "code",
   "execution_count": null,
   "metadata": {},
   "outputs": [],
   "source": [
    "df.groupby('Type').get_group('SUV').Weight.mean()"
   ]
  },
  {
   "cell_type": "code",
   "execution_count": 118,
   "metadata": {},
   "outputs": [
    {
     "data": {
      "text/plain": [
       "Type\n",
       "Sedan    3399.064885\n",
       "SUV      4444.433333\n",
       "Name: Weight, dtype: float64"
      ]
     },
     "execution_count": 118,
     "metadata": {},
     "output_type": "execute_result"
    }
   ],
   "source": [
    "df.groupby('Type').Weight.mean()[['Sedan','SUV']]"
   ]
  },
  {
   "cell_type": "markdown",
   "metadata": {},
   "source": [
    "Correlations & Relationships\n",
    "\n",
    "9/Does engine size correlate with horsepower? - YES\n",
    "\n",
    "10/Does car weight affect fuel efficiency (MPG_City or MPG_Highway)? - NO\n",
    "\n",
    "11/Is there a relationship between MSRP and Invoice price?"
   ]
  },
  {
   "cell_type": "code",
   "execution_count": null,
   "metadata": {},
   "outputs": [
    {
     "data": {
      "text/plain": [
       "Cylinders\n",
       "3.0      73.000000\n",
       "4.0     150.514706\n",
       "6.0     218.952632\n",
       "5.0     228.000000\n",
       "8.0     298.942529\n",
       "10.0    405.000000\n",
       "12.0    468.666667\n",
       "Name: Horsepower, dtype: float64"
      ]
     },
     "execution_count": 124,
     "metadata": {},
     "output_type": "execute_result"
    }
   ],
   "source": [
    "#9\n",
    "df.groupby('Cylinders').Horsepower.mean().sort_values(ascending=True)"
   ]
  },
  {
   "cell_type": "code",
   "execution_count": 130,
   "metadata": {},
   "outputs": [
    {
     "data": {
      "text/plain": [
       "Index(['Make', 'Model', 'Type', 'Origin', 'DriveTrain', 'MSRP', 'Invoice',\n",
       "       'EngineSize', 'Cylinders', 'Horsepower', 'MPG_City', 'MPG_Highway',\n",
       "       'Weight', 'Wheelbase', 'Length'],\n",
       "      dtype='object')"
      ]
     },
     "execution_count": 130,
     "metadata": {},
     "output_type": "execute_result"
    }
   ],
   "source": [
    "df.columns"
   ]
  },
  {
   "cell_type": "code",
   "execution_count": null,
   "metadata": {},
   "outputs": [
    {
     "data": {
      "text/html": [
       "<div>\n",
       "<style scoped>\n",
       "    .dataframe tbody tr th:only-of-type {\n",
       "        vertical-align: middle;\n",
       "    }\n",
       "\n",
       "    .dataframe tbody tr th {\n",
       "        vertical-align: top;\n",
       "    }\n",
       "\n",
       "    .dataframe thead th {\n",
       "        text-align: right;\n",
       "    }\n",
       "</style>\n",
       "<table border=\"1\" class=\"dataframe\">\n",
       "  <thead>\n",
       "    <tr style=\"text-align: right;\">\n",
       "      <th></th>\n",
       "      <th>Weight</th>\n",
       "      <th>MPG_City</th>\n",
       "      <th>MPG_Highway</th>\n",
       "    </tr>\n",
       "  </thead>\n",
       "  <tbody>\n",
       "    <tr>\n",
       "      <th>152</th>\n",
       "      <td>1850.0</td>\n",
       "      <td>60.0</td>\n",
       "      <td>66.0</td>\n",
       "    </tr>\n",
       "    <tr>\n",
       "      <th>386</th>\n",
       "      <td>2035.0</td>\n",
       "      <td>35.0</td>\n",
       "      <td>43.0</td>\n",
       "    </tr>\n",
       "    <tr>\n",
       "      <th>388</th>\n",
       "      <td>2055.0</td>\n",
       "      <td>35.0</td>\n",
       "      <td>43.0</td>\n",
       "    </tr>\n",
       "    <tr>\n",
       "      <th>387</th>\n",
       "      <td>2085.0</td>\n",
       "      <td>33.0</td>\n",
       "      <td>39.0</td>\n",
       "    </tr>\n",
       "    <tr>\n",
       "      <th>400</th>\n",
       "      <td>2195.0</td>\n",
       "      <td>26.0</td>\n",
       "      <td>32.0</td>\n",
       "    </tr>\n",
       "    <tr>\n",
       "      <th>...</th>\n",
       "      <td>...</td>\n",
       "      <td>...</td>\n",
       "      <td>...</td>\n",
       "    </tr>\n",
       "    <tr>\n",
       "      <th>64</th>\n",
       "      <td>5879.0</td>\n",
       "      <td>13.0</td>\n",
       "      <td>17.0</td>\n",
       "    </tr>\n",
       "    <tr>\n",
       "      <th>233</th>\n",
       "      <td>5969.0</td>\n",
       "      <td>13.0</td>\n",
       "      <td>18.0</td>\n",
       "    </tr>\n",
       "    <tr>\n",
       "      <th>145</th>\n",
       "      <td>6133.0</td>\n",
       "      <td>13.0</td>\n",
       "      <td>17.0</td>\n",
       "    </tr>\n",
       "    <tr>\n",
       "      <th>169</th>\n",
       "      <td>6400.0</td>\n",
       "      <td>10.0</td>\n",
       "      <td>12.0</td>\n",
       "    </tr>\n",
       "    <tr>\n",
       "      <th>120</th>\n",
       "      <td>7190.0</td>\n",
       "      <td>10.0</td>\n",
       "      <td>13.0</td>\n",
       "    </tr>\n",
       "  </tbody>\n",
       "</table>\n",
       "<p>426 rows × 3 columns</p>\n",
       "</div>"
      ],
      "text/plain": [
       "     Weight  MPG_City  MPG_Highway\n",
       "152  1850.0      60.0         66.0\n",
       "386  2035.0      35.0         43.0\n",
       "388  2055.0      35.0         43.0\n",
       "387  2085.0      33.0         39.0\n",
       "400  2195.0      26.0         32.0\n",
       "..      ...       ...          ...\n",
       "64   5879.0      13.0         17.0\n",
       "233  5969.0      13.0         18.0\n",
       "145  6133.0      13.0         17.0\n",
       "169  6400.0      10.0         12.0\n",
       "120  7190.0      10.0         13.0\n",
       "\n",
       "[426 rows x 3 columns]"
      ]
     },
     "execution_count": 136,
     "metadata": {},
     "output_type": "execute_result"
    }
   ],
   "source": [
    "#10\n",
    "df[['Weight','MPG_City','MPG_Highway']].sort_values(by = 'Weight',ascending=True)"
   ]
  },
  {
   "cell_type": "code",
   "execution_count": 140,
   "metadata": {},
   "outputs": [
    {
     "data": {
      "text/html": [
       "<div>\n",
       "<style scoped>\n",
       "    .dataframe tbody tr th:only-of-type {\n",
       "        vertical-align: middle;\n",
       "    }\n",
       "\n",
       "    .dataframe tbody tr th {\n",
       "        vertical-align: top;\n",
       "    }\n",
       "\n",
       "    .dataframe thead th {\n",
       "        text-align: right;\n",
       "    }\n",
       "</style>\n",
       "<table border=\"1\" class=\"dataframe\">\n",
       "  <thead>\n",
       "    <tr style=\"text-align: right;\">\n",
       "      <th></th>\n",
       "      <th>MSRP</th>\n",
       "      <th>Invoice</th>\n",
       "    </tr>\n",
       "  </thead>\n",
       "  <tbody>\n",
       "    <tr>\n",
       "      <th>MSRP</th>\n",
       "      <td>1.000000</td>\n",
       "      <td>0.999132</td>\n",
       "    </tr>\n",
       "    <tr>\n",
       "      <th>Invoice</th>\n",
       "      <td>0.999132</td>\n",
       "      <td>1.000000</td>\n",
       "    </tr>\n",
       "  </tbody>\n",
       "</table>\n",
       "</div>"
      ],
      "text/plain": [
       "             MSRP   Invoice\n",
       "MSRP     1.000000  0.999132\n",
       "Invoice  0.999132  1.000000"
      ]
     },
     "execution_count": 140,
     "metadata": {},
     "output_type": "execute_result"
    }
   ],
   "source": [
    "df[\"MSRP\"] = df[\"MSRP\"].replace('[\\$,]', '', regex=True).astype(float)\n",
    "df[\"Invoice\"] = df[\"Invoice\"].replace('[\\$,]', '', regex=True).astype(float)\n",
    "\n",
    "df[[\"MSRP\", \"Invoice\"]].corr()\n"
   ]
  },
  {
   "cell_type": "markdown",
   "metadata": {},
   "source": [
    "Filtering & Specific Questions\n",
    "\n",
    "12/List all cars with more than 300 horsepower and less than 20 MPG_City.\n",
    "\n",
    "13/Find the top 10 most expensive cars (by MSRP).\n",
    "\n",
    "14/Which car has the largest wheelbase, and which has the shortest?\n",
    "\n",
    "15/Among cars with 4 cylinders, which one has the best MPG_Highway?"
   ]
  },
  {
   "cell_type": "code",
   "execution_count": 153,
   "metadata": {},
   "outputs": [
    {
     "data": {
      "text/html": [
       "<div>\n",
       "<style scoped>\n",
       "    .dataframe tbody tr th:only-of-type {\n",
       "        vertical-align: middle;\n",
       "    }\n",
       "\n",
       "    .dataframe tbody tr th {\n",
       "        vertical-align: top;\n",
       "    }\n",
       "\n",
       "    .dataframe thead th {\n",
       "        text-align: right;\n",
       "    }\n",
       "</style>\n",
       "<table border=\"1\" class=\"dataframe\">\n",
       "  <thead>\n",
       "    <tr style=\"text-align: right;\">\n",
       "      <th></th>\n",
       "      <th>Make</th>\n",
       "      <th>Model</th>\n",
       "      <th>Type</th>\n",
       "      <th>Origin</th>\n",
       "      <th>DriveTrain</th>\n",
       "      <th>MSRP</th>\n",
       "      <th>Invoice</th>\n",
       "      <th>EngineSize</th>\n",
       "      <th>Cylinders</th>\n",
       "      <th>Horsepower</th>\n",
       "      <th>MPG_City</th>\n",
       "      <th>MPG_Highway</th>\n",
       "      <th>Weight</th>\n",
       "      <th>Wheelbase</th>\n",
       "      <th>Length</th>\n",
       "    </tr>\n",
       "  </thead>\n",
       "  <tbody>\n",
       "    <tr>\n",
       "      <th>64</th>\n",
       "      <td>Cadillac</td>\n",
       "      <td>Escalade EXT</td>\n",
       "      <td>Truck</td>\n",
       "      <td>USA</td>\n",
       "      <td>All</td>\n",
       "      <td>52975.0</td>\n",
       "      <td>48541.0</td>\n",
       "      <td>6.0</td>\n",
       "      <td>8.0</td>\n",
       "      <td>345.0</td>\n",
       "      <td>13.0</td>\n",
       "      <td>17.0</td>\n",
       "      <td>5879.0</td>\n",
       "      <td>130.0</td>\n",
       "      <td>221.0</td>\n",
       "    </tr>\n",
       "    <tr>\n",
       "      <th>120</th>\n",
       "      <td>Ford</td>\n",
       "      <td>Excursion 6.8 XLT</td>\n",
       "      <td>SUV</td>\n",
       "      <td>USA</td>\n",
       "      <td>All</td>\n",
       "      <td>41475.0</td>\n",
       "      <td>36494.0</td>\n",
       "      <td>6.8</td>\n",
       "      <td>10.0</td>\n",
       "      <td>310.0</td>\n",
       "      <td>10.0</td>\n",
       "      <td>13.0</td>\n",
       "      <td>7190.0</td>\n",
       "      <td>137.0</td>\n",
       "      <td>227.0</td>\n",
       "    </tr>\n",
       "    <tr>\n",
       "      <th>145</th>\n",
       "      <td>GMC</td>\n",
       "      <td>Yukon XL 2500 SLT</td>\n",
       "      <td>SUV</td>\n",
       "      <td>USA</td>\n",
       "      <td>All</td>\n",
       "      <td>46265.0</td>\n",
       "      <td>40534.0</td>\n",
       "      <td>6.0</td>\n",
       "      <td>8.0</td>\n",
       "      <td>325.0</td>\n",
       "      <td>13.0</td>\n",
       "      <td>17.0</td>\n",
       "      <td>6133.0</td>\n",
       "      <td>130.0</td>\n",
       "      <td>219.0</td>\n",
       "    </tr>\n",
       "    <tr>\n",
       "      <th>169</th>\n",
       "      <td>Hummer</td>\n",
       "      <td>H2</td>\n",
       "      <td>SUV</td>\n",
       "      <td>USA</td>\n",
       "      <td>All</td>\n",
       "      <td>49995.0</td>\n",
       "      <td>45815.0</td>\n",
       "      <td>6.0</td>\n",
       "      <td>8.0</td>\n",
       "      <td>316.0</td>\n",
       "      <td>10.0</td>\n",
       "      <td>12.0</td>\n",
       "      <td>6400.0</td>\n",
       "      <td>123.0</td>\n",
       "      <td>190.0</td>\n",
       "    </tr>\n",
       "    <tr>\n",
       "      <th>190</th>\n",
       "      <td>Infiniti</td>\n",
       "      <td>FX45</td>\n",
       "      <td>Wagon</td>\n",
       "      <td>Asia</td>\n",
       "      <td>All</td>\n",
       "      <td>36395.0</td>\n",
       "      <td>33121.0</td>\n",
       "      <td>4.5</td>\n",
       "      <td>8.0</td>\n",
       "      <td>315.0</td>\n",
       "      <td>15.0</td>\n",
       "      <td>19.0</td>\n",
       "      <td>4309.0</td>\n",
       "      <td>112.0</td>\n",
       "      <td>189.0</td>\n",
       "    </tr>\n",
       "    <tr>\n",
       "      <th>234</th>\n",
       "      <td>Lincoln</td>\n",
       "      <td>Aviator Ultimate</td>\n",
       "      <td>SUV</td>\n",
       "      <td>USA</td>\n",
       "      <td>Front</td>\n",
       "      <td>42915.0</td>\n",
       "      <td>39443.0</td>\n",
       "      <td>4.6</td>\n",
       "      <td>8.0</td>\n",
       "      <td>302.0</td>\n",
       "      <td>13.0</td>\n",
       "      <td>18.0</td>\n",
       "      <td>4834.0</td>\n",
       "      <td>114.0</td>\n",
       "      <td>193.0</td>\n",
       "    </tr>\n",
       "    <tr>\n",
       "      <th>266</th>\n",
       "      <td>Mercedes-Benz</td>\n",
       "      <td>CL600 2dr</td>\n",
       "      <td>Sedan</td>\n",
       "      <td>Europe</td>\n",
       "      <td>Rear</td>\n",
       "      <td>128420.0</td>\n",
       "      <td>119600.0</td>\n",
       "      <td>5.5</td>\n",
       "      <td>12.0</td>\n",
       "      <td>493.0</td>\n",
       "      <td>13.0</td>\n",
       "      <td>19.0</td>\n",
       "      <td>4473.0</td>\n",
       "      <td>114.0</td>\n",
       "      <td>196.0</td>\n",
       "    </tr>\n",
       "    <tr>\n",
       "      <th>275</th>\n",
       "      <td>Mercedes-Benz</td>\n",
       "      <td>SL600 convertible 2dr</td>\n",
       "      <td>Sports</td>\n",
       "      <td>Europe</td>\n",
       "      <td>Rear</td>\n",
       "      <td>126670.0</td>\n",
       "      <td>117854.0</td>\n",
       "      <td>5.5</td>\n",
       "      <td>12.0</td>\n",
       "      <td>493.0</td>\n",
       "      <td>13.0</td>\n",
       "      <td>19.0</td>\n",
       "      <td>4429.0</td>\n",
       "      <td>101.0</td>\n",
       "      <td>179.0</td>\n",
       "    </tr>\n",
       "    <tr>\n",
       "      <th>303</th>\n",
       "      <td>Nissan</td>\n",
       "      <td>Pathfinder Armada SE</td>\n",
       "      <td>SUV</td>\n",
       "      <td>Asia</td>\n",
       "      <td>Front</td>\n",
       "      <td>33840.0</td>\n",
       "      <td>30815.0</td>\n",
       "      <td>5.6</td>\n",
       "      <td>8.0</td>\n",
       "      <td>305.0</td>\n",
       "      <td>13.0</td>\n",
       "      <td>19.0</td>\n",
       "      <td>5013.0</td>\n",
       "      <td>123.0</td>\n",
       "      <td>207.0</td>\n",
       "    </tr>\n",
       "    <tr>\n",
       "      <th>318</th>\n",
       "      <td>Nissan</td>\n",
       "      <td>Titan King Cab XE</td>\n",
       "      <td>Truck</td>\n",
       "      <td>Asia</td>\n",
       "      <td>All</td>\n",
       "      <td>26650.0</td>\n",
       "      <td>24926.0</td>\n",
       "      <td>5.6</td>\n",
       "      <td>8.0</td>\n",
       "      <td>305.0</td>\n",
       "      <td>14.0</td>\n",
       "      <td>18.0</td>\n",
       "      <td>5287.0</td>\n",
       "      <td>140.0</td>\n",
       "      <td>224.0</td>\n",
       "    </tr>\n",
       "    <tr>\n",
       "      <th>334</th>\n",
       "      <td>Porsche</td>\n",
       "      <td>Cayenne S</td>\n",
       "      <td>SUV</td>\n",
       "      <td>Europe</td>\n",
       "      <td>All</td>\n",
       "      <td>56665.0</td>\n",
       "      <td>49865.0</td>\n",
       "      <td>4.5</td>\n",
       "      <td>8.0</td>\n",
       "      <td>340.0</td>\n",
       "      <td>14.0</td>\n",
       "      <td>18.0</td>\n",
       "      <td>4950.0</td>\n",
       "      <td>112.0</td>\n",
       "      <td>188.0</td>\n",
       "    </tr>\n",
       "    <tr>\n",
       "      <th>381</th>\n",
       "      <td>Toyota</td>\n",
       "      <td>Land Cruiser</td>\n",
       "      <td>SUV</td>\n",
       "      <td>Asia</td>\n",
       "      <td>All</td>\n",
       "      <td>54765.0</td>\n",
       "      <td>47986.0</td>\n",
       "      <td>4.7</td>\n",
       "      <td>8.0</td>\n",
       "      <td>325.0</td>\n",
       "      <td>13.0</td>\n",
       "      <td>17.0</td>\n",
       "      <td>5390.0</td>\n",
       "      <td>112.0</td>\n",
       "      <td>193.0</td>\n",
       "    </tr>\n",
       "    <tr>\n",
       "      <th>416</th>\n",
       "      <td>Volkswagen</td>\n",
       "      <td>Phaeton W12 4dr</td>\n",
       "      <td>Sedan</td>\n",
       "      <td>Europe</td>\n",
       "      <td>Front</td>\n",
       "      <td>75000.0</td>\n",
       "      <td>69130.0</td>\n",
       "      <td>6.0</td>\n",
       "      <td>12.0</td>\n",
       "      <td>420.0</td>\n",
       "      <td>12.0</td>\n",
       "      <td>19.0</td>\n",
       "      <td>5399.0</td>\n",
       "      <td>118.0</td>\n",
       "      <td>204.0</td>\n",
       "    </tr>\n",
       "  </tbody>\n",
       "</table>\n",
       "</div>"
      ],
      "text/plain": [
       "              Make                  Model    Type  Origin DriveTrain  \\\n",
       "64        Cadillac           Escalade EXT   Truck     USA        All   \n",
       "120           Ford      Excursion 6.8 XLT     SUV     USA        All   \n",
       "145            GMC      Yukon XL 2500 SLT     SUV     USA        All   \n",
       "169         Hummer                     H2     SUV     USA        All   \n",
       "190       Infiniti                   FX45   Wagon    Asia        All   \n",
       "234        Lincoln       Aviator Ultimate     SUV     USA      Front   \n",
       "266  Mercedes-Benz              CL600 2dr   Sedan  Europe       Rear   \n",
       "275  Mercedes-Benz  SL600 convertible 2dr  Sports  Europe       Rear   \n",
       "303         Nissan   Pathfinder Armada SE     SUV    Asia      Front   \n",
       "318         Nissan      Titan King Cab XE   Truck    Asia        All   \n",
       "334        Porsche              Cayenne S     SUV  Europe        All   \n",
       "381         Toyota           Land Cruiser     SUV    Asia        All   \n",
       "416     Volkswagen        Phaeton W12 4dr   Sedan  Europe      Front   \n",
       "\n",
       "         MSRP   Invoice  EngineSize  Cylinders  Horsepower  MPG_City  \\\n",
       "64    52975.0   48541.0         6.0        8.0       345.0      13.0   \n",
       "120   41475.0   36494.0         6.8       10.0       310.0      10.0   \n",
       "145   46265.0   40534.0         6.0        8.0       325.0      13.0   \n",
       "169   49995.0   45815.0         6.0        8.0       316.0      10.0   \n",
       "190   36395.0   33121.0         4.5        8.0       315.0      15.0   \n",
       "234   42915.0   39443.0         4.6        8.0       302.0      13.0   \n",
       "266  128420.0  119600.0         5.5       12.0       493.0      13.0   \n",
       "275  126670.0  117854.0         5.5       12.0       493.0      13.0   \n",
       "303   33840.0   30815.0         5.6        8.0       305.0      13.0   \n",
       "318   26650.0   24926.0         5.6        8.0       305.0      14.0   \n",
       "334   56665.0   49865.0         4.5        8.0       340.0      14.0   \n",
       "381   54765.0   47986.0         4.7        8.0       325.0      13.0   \n",
       "416   75000.0   69130.0         6.0       12.0       420.0      12.0   \n",
       "\n",
       "     MPG_Highway  Weight  Wheelbase  Length  \n",
       "64          17.0  5879.0      130.0   221.0  \n",
       "120         13.0  7190.0      137.0   227.0  \n",
       "145         17.0  6133.0      130.0   219.0  \n",
       "169         12.0  6400.0      123.0   190.0  \n",
       "190         19.0  4309.0      112.0   189.0  \n",
       "234         18.0  4834.0      114.0   193.0  \n",
       "266         19.0  4473.0      114.0   196.0  \n",
       "275         19.0  4429.0      101.0   179.0  \n",
       "303         19.0  5013.0      123.0   207.0  \n",
       "318         18.0  5287.0      140.0   224.0  \n",
       "334         18.0  4950.0      112.0   188.0  \n",
       "381         17.0  5390.0      112.0   193.0  \n",
       "416         19.0  5399.0      118.0   204.0  "
      ]
     },
     "execution_count": 153,
     "metadata": {},
     "output_type": "execute_result"
    }
   ],
   "source": [
    "#12\n",
    "df[(df['Horsepower'] > 300) & (df['MPG_Highway'] < 20)]"
   ]
  },
  {
   "cell_type": "code",
   "execution_count": 174,
   "metadata": {},
   "outputs": [
    {
     "data": {
      "text/plain": [
       "Make         Chevrolet\n",
       "Wheelbase        144.0\n",
       "Name: 89, dtype: object"
      ]
     },
     "execution_count": 174,
     "metadata": {},
     "output_type": "execute_result"
    }
   ],
   "source": [
    "#13\n",
    "df.sort_values(by='Wheelbase',ascending=False).iloc[0][['Make','Wheelbase']]\n",
    "# df.loc[df['Wheelbase'].idxmin(),['Make','Wheelbase']]"
   ]
  },
  {
   "cell_type": "code",
   "execution_count": null,
   "metadata": {},
   "outputs": [],
   "source": [
    "# 14\n",
    "df.sort_values(by='MSRP',ascending=False).head(10)['Make']"
   ]
  },
  {
   "cell_type": "code",
   "execution_count": 175,
   "metadata": {},
   "outputs": [
    {
     "data": {
      "text/plain": [
       "'Toyota'"
      ]
     },
     "execution_count": 175,
     "metadata": {},
     "output_type": "execute_result"
    }
   ],
   "source": [
    "#15\n",
    "df.groupby('Cylinders').get_group(4).sort_values('MPG_Highway',ascending=False).iloc[0]['Make']"
   ]
  }
 ],
 "metadata": {
  "kernelspec": {
   "display_name": "DataExplorer",
   "language": "python",
   "name": "python3"
  },
  "language_info": {
   "codemirror_mode": {
    "name": "ipython",
    "version": 3
   },
   "file_extension": ".py",
   "mimetype": "text/x-python",
   "name": "python",
   "nbconvert_exporter": "python",
   "pygments_lexer": "ipython3",
   "version": "3.11.11"
  }
 },
 "nbformat": 4,
 "nbformat_minor": 2
}
